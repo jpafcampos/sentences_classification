{
 "cells": [
  {
   "cell_type": "code",
   "execution_count": 2,
   "metadata": {},
   "outputs": [],
   "source": [
    "import pandas as pd\n",
    "import numpy as np"
   ]
  },
  {
   "cell_type": "code",
   "execution_count": 98,
   "metadata": {},
   "outputs": [],
   "source": [
    "from sklearn.neural_network import MLPClassifier\n",
    "from sklearn.svm import SVC, NuSVC\n",
    "from sklearn.metrics import confusion_matrix,accuracy_score,roc_auc_score, balanced_accuracy_score, roc_curve"
   ]
  },
  {
   "cell_type": "code",
   "execution_count": 70,
   "metadata": {},
   "outputs": [],
   "source": [
    "import matplotlib.pyplot as plt\n",
    "from sklearn import datasets\n",
    "from sklearn.model_selection import train_test_split\n",
    "from sklearn.feature_extraction.text import CountVectorizer, TfidfVectorizer"
   ]
  },
  {
   "cell_type": "code",
   "execution_count": 7,
   "metadata": {},
   "outputs": [
    {
     "name": "stderr",
     "output_type": "stream",
     "text": [
      "[nltk_data] Downloading package punkt to /home/joao/nltk_data...\n",
      "[nltk_data]   Package punkt is already up-to-date!\n"
     ]
    }
   ],
   "source": [
    "import nltk\n",
    "from nltk.tokenize import word_tokenize\n",
    "from nltk.tokenize import sent_tokenize\n",
    "from nltk.probability import FreqDist\n",
    "nltk.download('punkt')\n",
    "import enelvo\n",
    "from enelvo.normaliser import Normaliser\n",
    "import re\n",
    "import unidecode\n",
    "\n",
    "from collections import Counter\n",
    "from mittens import GloVe, Mittens"
   ]
  },
  {
   "cell_type": "code",
   "execution_count": 43,
   "metadata": {},
   "outputs": [],
   "source": [
    "df = pd.read_csv(\"dataset.csv\")"
   ]
  },
  {
   "cell_type": "code",
   "execution_count": 44,
   "metadata": {},
   "outputs": [
    {
     "data": {
      "text/html": [
       "<div>\n",
       "<style scoped>\n",
       "    .dataframe tbody tr th:only-of-type {\n",
       "        vertical-align: middle;\n",
       "    }\n",
       "\n",
       "    .dataframe tbody tr th {\n",
       "        vertical-align: top;\n",
       "    }\n",
       "\n",
       "    .dataframe thead th {\n",
       "        text-align: right;\n",
       "    }\n",
       "</style>\n",
       "<table border=\"1\" class=\"dataframe\">\n",
       "  <thead>\n",
       "    <tr style=\"text-align: right;\">\n",
       "      <th></th>\n",
       "      <th>sentence</th>\n",
       "      <th>category</th>\n",
       "    </tr>\n",
       "  </thead>\n",
       "  <tbody>\n",
       "    <tr>\n",
       "      <th>0</th>\n",
       "      <td>Auxílio-Doença Previdenciário, Benefícios em E...</td>\n",
       "      <td>orgão público</td>\n",
       "    </tr>\n",
       "    <tr>\n",
       "      <th>1</th>\n",
       "      <td>PAGAR TODAS AS CONTAS EM ATRASO R$1.290,90.</td>\n",
       "      <td>finanças</td>\n",
       "    </tr>\n",
       "    <tr>\n",
       "      <th>2</th>\n",
       "      <td>Então encontraremos na próxima aula.</td>\n",
       "      <td>educação</td>\n",
       "    </tr>\n",
       "    <tr>\n",
       "      <th>3</th>\n",
       "      <td>Veja os resultados da categoria de ofertas do ...</td>\n",
       "      <td>indústrias</td>\n",
       "    </tr>\n",
       "    <tr>\n",
       "      <th>4</th>\n",
       "      <td>Além disso, a embalagem é reutilizável e 100% ...</td>\n",
       "      <td>indústrias,varejo</td>\n",
       "    </tr>\n",
       "    <tr>\n",
       "      <th>5</th>\n",
       "      <td>Na EAD Educação a distância você tem autonomia...</td>\n",
       "      <td>educação</td>\n",
       "    </tr>\n",
       "    <tr>\n",
       "      <th>6</th>\n",
       "      <td>Veja as condições de compra.</td>\n",
       "      <td>varejo</td>\n",
       "    </tr>\n",
       "    <tr>\n",
       "      <th>7</th>\n",
       "      <td>Pensão por Morte (Art. 74/9), Benefícios em Es...</td>\n",
       "      <td>orgão público</td>\n",
       "    </tr>\n",
       "    <tr>\n",
       "      <th>8</th>\n",
       "      <td>A primeira agência foi aberta em 2 de janeiro ...</td>\n",
       "      <td>finanças</td>\n",
       "    </tr>\n",
       "    <tr>\n",
       "      <th>9</th>\n",
       "      <td>Valor das parcelas</td>\n",
       "      <td>finanças,varejo</td>\n",
       "    </tr>\n",
       "    <tr>\n",
       "      <th>10</th>\n",
       "      <td>Lojas de sapatos.</td>\n",
       "      <td>varejo</td>\n",
       "    </tr>\n",
       "    <tr>\n",
       "      <th>11</th>\n",
       "      <td>Seu carrinho de compras ainda está vazio.</td>\n",
       "      <td>varejo</td>\n",
       "    </tr>\n",
       "    <tr>\n",
       "      <th>12</th>\n",
       "      <td>Sale até 50% OFF mais creme de mãos por R$9,90...</td>\n",
       "      <td>varejo</td>\n",
       "    </tr>\n",
       "    <tr>\n",
       "      <th>13</th>\n",
       "      <td>A BRK Ambiental é responsável pela gestão dos ...</td>\n",
       "      <td>indústrias</td>\n",
       "    </tr>\n",
       "    <tr>\n",
       "      <th>14</th>\n",
       "      <td>TRIBUNAL REGIONAL DO TRABALHO DA 15ª REGIÃO ED...</td>\n",
       "      <td>orgão público</td>\n",
       "    </tr>\n",
       "    <tr>\n",
       "      <th>15</th>\n",
       "      <td>Como saber o limite do cartão de crédito e o v...</td>\n",
       "      <td>finanças</td>\n",
       "    </tr>\n",
       "    <tr>\n",
       "      <th>16</th>\n",
       "      <td>Temos ofertas e promoções imperdíveis, sempre ...</td>\n",
       "      <td>varejo</td>\n",
       "    </tr>\n",
       "    <tr>\n",
       "      <th>17</th>\n",
       "      <td>OBS.: se houver alguma das pendências informad...</td>\n",
       "      <td>educação</td>\n",
       "    </tr>\n",
       "    <tr>\n",
       "      <th>18</th>\n",
       "      <td>Se a resposta dos alunos for positiva, o profe...</td>\n",
       "      <td>educação</td>\n",
       "    </tr>\n",
       "    <tr>\n",
       "      <th>19</th>\n",
       "      <td>FÓRUM II: FONÉTICA E FONOLOGIA DO PORTUGUÊS.</td>\n",
       "      <td>educação</td>\n",
       "    </tr>\n",
       "  </tbody>\n",
       "</table>\n",
       "</div>"
      ],
      "text/plain": [
       "                                             sentence           category\n",
       "0   Auxílio-Doença Previdenciário, Benefícios em E...      orgão público\n",
       "1         PAGAR TODAS AS CONTAS EM ATRASO R$1.290,90.           finanças\n",
       "2                Então encontraremos na próxima aula.           educação\n",
       "3   Veja os resultados da categoria de ofertas do ...         indústrias\n",
       "4   Além disso, a embalagem é reutilizável e 100% ...  indústrias,varejo\n",
       "5   Na EAD Educação a distância você tem autonomia...           educação\n",
       "6                        Veja as condições de compra.             varejo\n",
       "7   Pensão por Morte (Art. 74/9), Benefícios em Es...      orgão público\n",
       "8   A primeira agência foi aberta em 2 de janeiro ...           finanças\n",
       "9                                  Valor das parcelas    finanças,varejo\n",
       "10                                  Lojas de sapatos.             varejo\n",
       "11          Seu carrinho de compras ainda está vazio.             varejo\n",
       "12  Sale até 50% OFF mais creme de mãos por R$9,90...             varejo\n",
       "13  A BRK Ambiental é responsável pela gestão dos ...         indústrias\n",
       "14  TRIBUNAL REGIONAL DO TRABALHO DA 15ª REGIÃO ED...      orgão público\n",
       "15  Como saber o limite do cartão de crédito e o v...           finanças\n",
       "16  Temos ofertas e promoções imperdíveis, sempre ...             varejo\n",
       "17  OBS.: se houver alguma das pendências informad...           educação\n",
       "18  Se a resposta dos alunos for positiva, o profe...           educação\n",
       "19       FÓRUM II: FONÉTICA E FONOLOGIA DO PORTUGUÊS.           educação"
      ]
     },
     "execution_count": 44,
     "metadata": {},
     "output_type": "execute_result"
    }
   ],
   "source": [
    "df.head(20)"
   ]
  },
  {
   "cell_type": "markdown",
   "metadata": {},
   "source": [
    "# Pré-processamento"
   ]
  },
  {
   "cell_type": "markdown",
   "metadata": {},
   "source": [
    "Vamos pré-processar os dados textuais, gerando um conjunto de dados mais \"limpo\" para alimentar o modelo. Serão removidas as strings que não são palavras, e todas as entradas serão transformadas em letras minúsculas. Além disso, a função normalise da biblioteca enelvo será utilizada para garantir que palavras potencialmente escritas em grafia não usual sejam transformadas para a ortografia padrão."
   ]
  },
  {
   "cell_type": "code",
   "execution_count": 45,
   "metadata": {},
   "outputs": [],
   "source": [
    "def pre_processamento(texto):\n",
    "  \n",
    "    texto_proc =  re.findall(r'\\b[A-zÀ-úü]+\\b', texto.lower())\n",
    "    # remove stopwords\n",
    "    stopwords = nltk.corpus.stopwords.words('portuguese')\n",
    "    stop = set(stopwords)\n",
    "    sem_stopwords = [w for w in texto_proc if w not in stop]\n",
    "\n",
    "    # juntando os tokens novamente em formato de texto\n",
    "    texto_limpo = \" \".join(sem_stopwords)\n",
    "\n",
    "    texto_proc = norm.normalise(texto_limpo)\n",
    "    \n",
    "    #texto_proc = unidecode.unidecode(texto_proc)\n",
    "    \n",
    "\n",
    "    return texto_proc"
   ]
  },
  {
   "cell_type": "code",
   "execution_count": 46,
   "metadata": {},
   "outputs": [
    {
     "name": "stderr",
     "output_type": "stream",
     "text": [
      "[nltk_data] Downloading package stopwords to /home/joao/nltk_data...\n",
      "[nltk_data]   Package stopwords is already up-to-date!\n"
     ]
    }
   ],
   "source": [
    "nltk.download('stopwords')\n",
    "stopwords = nltk.corpus.stopwords.words('portuguese')\n",
    "norm = Normaliser(tokenizer='readable')"
   ]
  },
  {
   "cell_type": "code",
   "execution_count": 47,
   "metadata": {},
   "outputs": [],
   "source": [
    "df.sentence = [pre_processamento(sentence) for sentence in df.sentence]"
   ]
  },
  {
   "cell_type": "code",
   "execution_count": 48,
   "metadata": {},
   "outputs": [
    {
     "data": {
      "text/html": [
       "<div>\n",
       "<style scoped>\n",
       "    .dataframe tbody tr th:only-of-type {\n",
       "        vertical-align: middle;\n",
       "    }\n",
       "\n",
       "    .dataframe tbody tr th {\n",
       "        vertical-align: top;\n",
       "    }\n",
       "\n",
       "    .dataframe thead th {\n",
       "        text-align: right;\n",
       "    }\n",
       "</style>\n",
       "<table border=\"1\" class=\"dataframe\">\n",
       "  <thead>\n",
       "    <tr style=\"text-align: right;\">\n",
       "      <th></th>\n",
       "      <th>sentence</th>\n",
       "      <th>category</th>\n",
       "    </tr>\n",
       "  </thead>\n",
       "  <tbody>\n",
       "    <tr>\n",
       "      <th>0</th>\n",
       "      <td>auxílio doença previdenciário benefícios espéc...</td>\n",
       "      <td>orgão público</td>\n",
       "    </tr>\n",
       "    <tr>\n",
       "      <th>1</th>\n",
       "      <td>pagar todas contas atraso ar</td>\n",
       "      <td>finanças</td>\n",
       "    </tr>\n",
       "    <tr>\n",
       "      <th>2</th>\n",
       "      <td>então encontraremos próxima aula</td>\n",
       "      <td>educação</td>\n",
       "    </tr>\n",
       "    <tr>\n",
       "      <th>3</th>\n",
       "      <td>veja resultados categoria ofertas novo modelo ...</td>\n",
       "      <td>indústrias</td>\n",
       "    </tr>\n",
       "    <tr>\n",
       "      <th>4</th>\n",
       "      <td>além disso embalagem reutilizável reciclável</td>\n",
       "      <td>indústrias,varejo</td>\n",
       "    </tr>\n",
       "  </tbody>\n",
       "</table>\n",
       "</div>"
      ],
      "text/plain": [
       "                                            sentence           category\n",
       "0  auxílio doença previdenciário benefícios espéc...      orgão público\n",
       "1                       pagar todas contas atraso ar           finanças\n",
       "2                   então encontraremos próxima aula           educação\n",
       "3  veja resultados categoria ofertas novo modelo ...         indústrias\n",
       "4       além disso embalagem reutilizável reciclável  indústrias,varejo"
      ]
     },
     "execution_count": 48,
     "metadata": {},
     "output_type": "execute_result"
    }
   ],
   "source": [
    "df.head()"
   ]
  },
  {
   "cell_type": "code",
   "execution_count": 49,
   "metadata": {},
   "outputs": [],
   "source": [
    "class2id = {\n",
    "    \"fin\": 0,\n",
    "    \"edu\": 1,\n",
    "    \"ind\": 2,\n",
    "    \"var\": 3,\n",
    "    \"org\": 4\n",
    "}"
   ]
  },
  {
   "cell_type": "code",
   "execution_count": 50,
   "metadata": {},
   "outputs": [],
   "source": [
    "id2class = {\n",
    "    0: \"fin\",\n",
    "    1: \"edu\",\n",
    "    2: \"ind\",\n",
    "    3: \"var\",\n",
    "    4: \"org\"\n",
    "}"
   ]
  },
  {
   "cell_type": "code",
   "execution_count": 51,
   "metadata": {},
   "outputs": [
    {
     "name": "stdout",
     "output_type": "stream",
     "text": [
      "46\n",
      "521\n"
     ]
    }
   ],
   "source": [
    "total = 0\n",
    "for cat in df.category:\n",
    "    if \",\" in cat:\n",
    "        total += 1\n",
    "\n",
    "print(total)\n",
    "print(len(df.category))"
   ]
  },
  {
   "cell_type": "code",
   "execution_count": 52,
   "metadata": {},
   "outputs": [
    {
     "data": {
      "text/plain": [
       "orgão público               140\n",
       "educação                    107\n",
       "indústrias                   89\n",
       "varejo                       85\n",
       "finanças                     54\n",
       "finanças,varejo              13\n",
       "educação,orgão público        9\n",
       "indústrias,varejo             7\n",
       "educação,indústrias           5\n",
       "finanças,orgão público        4\n",
       "finanças,indústrias           3\n",
       "indústrias,orgão público      2\n",
       "educação,finanças             2\n",
       "varejo,indústrias             1\n",
       "Name: category, dtype: int64"
      ]
     },
     "execution_count": 52,
     "metadata": {},
     "output_type": "execute_result"
    }
   ],
   "source": [
    "df.category.value_counts()"
   ]
  },
  {
   "cell_type": "markdown",
   "metadata": {},
   "source": [
    "Para tratar o fato do problema ser multilabel, vamos começar empregando a estratégia mais simples: vamos selecionar apenas uma das labels quando houverem duas. A label escolhida será aquela que, dentre as duas, menos aparece no dataset, de forma a favorecer o balanceamento."
   ]
  },
  {
   "cell_type": "code",
   "execution_count": 53,
   "metadata": {},
   "outputs": [],
   "source": [
    "label_priority = {\n",
    "    \"org\": 5,\n",
    "    \"edu\": 4,\n",
    "    \"ind\": 3,\n",
    "    \"var\": 2,\n",
    "    \"fin\": 1\n",
    "}\n",
    "\n",
    "def select_label (l1, l2):\n",
    "    if label_priority[l1] < label_priority[l2]:\n",
    "        return l1\n",
    "    return l2\n"
   ]
  },
  {
   "cell_type": "code",
   "execution_count": 54,
   "metadata": {},
   "outputs": [
    {
     "data": {
      "text/plain": [
       "'fin'"
      ]
     },
     "execution_count": 54,
     "metadata": {},
     "output_type": "execute_result"
    }
   ],
   "source": [
    "select_label(\"org\", \"fin\")"
   ]
  },
  {
   "cell_type": "code",
   "execution_count": 55,
   "metadata": {},
   "outputs": [],
   "source": [
    "df.category = [cat.split(',') for cat in df.category]"
   ]
  },
  {
   "cell_type": "code",
   "execution_count": 56,
   "metadata": {},
   "outputs": [
    {
     "data": {
      "text/html": [
       "<div>\n",
       "<style scoped>\n",
       "    .dataframe tbody tr th:only-of-type {\n",
       "        vertical-align: middle;\n",
       "    }\n",
       "\n",
       "    .dataframe tbody tr th {\n",
       "        vertical-align: top;\n",
       "    }\n",
       "\n",
       "    .dataframe thead th {\n",
       "        text-align: right;\n",
       "    }\n",
       "</style>\n",
       "<table border=\"1\" class=\"dataframe\">\n",
       "  <thead>\n",
       "    <tr style=\"text-align: right;\">\n",
       "      <th></th>\n",
       "      <th>sentence</th>\n",
       "      <th>category</th>\n",
       "    </tr>\n",
       "  </thead>\n",
       "  <tbody>\n",
       "    <tr>\n",
       "      <th>0</th>\n",
       "      <td>auxílio doença previdenciário benefícios espéc...</td>\n",
       "      <td>[orgão público]</td>\n",
       "    </tr>\n",
       "    <tr>\n",
       "      <th>1</th>\n",
       "      <td>pagar todas contas atraso ar</td>\n",
       "      <td>[finanças]</td>\n",
       "    </tr>\n",
       "    <tr>\n",
       "      <th>2</th>\n",
       "      <td>então encontraremos próxima aula</td>\n",
       "      <td>[educação]</td>\n",
       "    </tr>\n",
       "    <tr>\n",
       "      <th>3</th>\n",
       "      <td>veja resultados categoria ofertas novo modelo ...</td>\n",
       "      <td>[indústrias]</td>\n",
       "    </tr>\n",
       "    <tr>\n",
       "      <th>4</th>\n",
       "      <td>além disso embalagem reutilizável reciclável</td>\n",
       "      <td>[indústrias, varejo]</td>\n",
       "    </tr>\n",
       "  </tbody>\n",
       "</table>\n",
       "</div>"
      ],
      "text/plain": [
       "                                            sentence              category\n",
       "0  auxílio doença previdenciário benefícios espéc...       [orgão público]\n",
       "1                       pagar todas contas atraso ar            [finanças]\n",
       "2                   então encontraremos próxima aula            [educação]\n",
       "3  veja resultados categoria ofertas novo modelo ...          [indústrias]\n",
       "4       além disso embalagem reutilizável reciclável  [indústrias, varejo]"
      ]
     },
     "execution_count": 56,
     "metadata": {},
     "output_type": "execute_result"
    }
   ],
   "source": [
    "df.head()"
   ]
  },
  {
   "cell_type": "code",
   "execution_count": 57,
   "metadata": {},
   "outputs": [],
   "source": [
    "new_cats = []\n",
    "for cats in df.category:\n",
    "    if len(cats) == 2:\n",
    "        #print(cats)\n",
    "        c1 = cats[0]\n",
    "        c2 = cats[1]\n",
    "        #print(c1[0:3],c2[0:3])\n",
    "        new_cats.append([c1[0:3], c2[0:3]])\n",
    "    else:\n",
    "        new_cats.append([cats[0][0:3]])\n",
    "        "
   ]
  },
  {
   "cell_type": "code",
   "execution_count": 58,
   "metadata": {},
   "outputs": [],
   "source": [
    "final_labels = []\n",
    "for cats in new_cats:\n",
    "    if len(cats) == 2:\n",
    "        final_labels.append(select_label(cats[0], cats[1]))\n",
    "    else:\n",
    "        final_labels.append(cats[0])"
   ]
  },
  {
   "cell_type": "code",
   "execution_count": 59,
   "metadata": {},
   "outputs": [],
   "source": [
    "df.category = final_labels"
   ]
  },
  {
   "cell_type": "code",
   "execution_count": 60,
   "metadata": {},
   "outputs": [
    {
     "data": {
      "text/html": [
       "<div>\n",
       "<style scoped>\n",
       "    .dataframe tbody tr th:only-of-type {\n",
       "        vertical-align: middle;\n",
       "    }\n",
       "\n",
       "    .dataframe tbody tr th {\n",
       "        vertical-align: top;\n",
       "    }\n",
       "\n",
       "    .dataframe thead th {\n",
       "        text-align: right;\n",
       "    }\n",
       "</style>\n",
       "<table border=\"1\" class=\"dataframe\">\n",
       "  <thead>\n",
       "    <tr style=\"text-align: right;\">\n",
       "      <th></th>\n",
       "      <th>sentence</th>\n",
       "      <th>category</th>\n",
       "    </tr>\n",
       "  </thead>\n",
       "  <tbody>\n",
       "    <tr>\n",
       "      <th>0</th>\n",
       "      <td>auxílio doença previdenciário benefícios espéc...</td>\n",
       "      <td>org</td>\n",
       "    </tr>\n",
       "    <tr>\n",
       "      <th>1</th>\n",
       "      <td>pagar todas contas atraso ar</td>\n",
       "      <td>fin</td>\n",
       "    </tr>\n",
       "    <tr>\n",
       "      <th>2</th>\n",
       "      <td>então encontraremos próxima aula</td>\n",
       "      <td>edu</td>\n",
       "    </tr>\n",
       "    <tr>\n",
       "      <th>3</th>\n",
       "      <td>veja resultados categoria ofertas novo modelo ...</td>\n",
       "      <td>ind</td>\n",
       "    </tr>\n",
       "    <tr>\n",
       "      <th>4</th>\n",
       "      <td>além disso embalagem reutilizável reciclável</td>\n",
       "      <td>var</td>\n",
       "    </tr>\n",
       "  </tbody>\n",
       "</table>\n",
       "</div>"
      ],
      "text/plain": [
       "                                            sentence category\n",
       "0  auxílio doença previdenciário benefícios espéc...      org\n",
       "1                       pagar todas contas atraso ar      fin\n",
       "2                   então encontraremos próxima aula      edu\n",
       "3  veja resultados categoria ofertas novo modelo ...      ind\n",
       "4       além disso embalagem reutilizável reciclável      var"
      ]
     },
     "execution_count": 60,
     "metadata": {},
     "output_type": "execute_result"
    }
   ],
   "source": [
    "df.head()"
   ]
  },
  {
   "cell_type": "code",
   "execution_count": 61,
   "metadata": {},
   "outputs": [],
   "source": [
    "df.category = [class2id[cat] for cat in df.category]"
   ]
  },
  {
   "cell_type": "code",
   "execution_count": 62,
   "metadata": {},
   "outputs": [
    {
     "data": {
      "text/html": [
       "<div>\n",
       "<style scoped>\n",
       "    .dataframe tbody tr th:only-of-type {\n",
       "        vertical-align: middle;\n",
       "    }\n",
       "\n",
       "    .dataframe tbody tr th {\n",
       "        vertical-align: top;\n",
       "    }\n",
       "\n",
       "    .dataframe thead th {\n",
       "        text-align: right;\n",
       "    }\n",
       "</style>\n",
       "<table border=\"1\" class=\"dataframe\">\n",
       "  <thead>\n",
       "    <tr style=\"text-align: right;\">\n",
       "      <th></th>\n",
       "      <th>sentence</th>\n",
       "      <th>category</th>\n",
       "    </tr>\n",
       "  </thead>\n",
       "  <tbody>\n",
       "    <tr>\n",
       "      <th>0</th>\n",
       "      <td>auxílio doença previdenciário benefícios espéc...</td>\n",
       "      <td>4</td>\n",
       "    </tr>\n",
       "    <tr>\n",
       "      <th>1</th>\n",
       "      <td>pagar todas contas atraso ar</td>\n",
       "      <td>0</td>\n",
       "    </tr>\n",
       "    <tr>\n",
       "      <th>2</th>\n",
       "      <td>então encontraremos próxima aula</td>\n",
       "      <td>1</td>\n",
       "    </tr>\n",
       "    <tr>\n",
       "      <th>3</th>\n",
       "      <td>veja resultados categoria ofertas novo modelo ...</td>\n",
       "      <td>2</td>\n",
       "    </tr>\n",
       "    <tr>\n",
       "      <th>4</th>\n",
       "      <td>além disso embalagem reutilizável reciclável</td>\n",
       "      <td>3</td>\n",
       "    </tr>\n",
       "  </tbody>\n",
       "</table>\n",
       "</div>"
      ],
      "text/plain": [
       "                                            sentence  category\n",
       "0  auxílio doença previdenciário benefícios espéc...         4\n",
       "1                       pagar todas contas atraso ar         0\n",
       "2                   então encontraremos próxima aula         1\n",
       "3  veja resultados categoria ofertas novo modelo ...         2\n",
       "4       além disso embalagem reutilizável reciclável         3"
      ]
     },
     "execution_count": 62,
     "metadata": {},
     "output_type": "execute_result"
    }
   ],
   "source": [
    "df.head()"
   ]
  },
  {
   "cell_type": "code",
   "execution_count": 63,
   "metadata": {},
   "outputs": [
    {
     "data": {
      "text/plain": [
       "4    140\n",
       "1    116\n",
       "2     96\n",
       "3     93\n",
       "0     76\n",
       "Name: category, dtype: int64"
      ]
     },
     "execution_count": 63,
     "metadata": {},
     "output_type": "execute_result"
    }
   ],
   "source": [
    "df.category.value_counts()"
   ]
  },
  {
   "cell_type": "markdown",
   "metadata": {},
   "source": [
    "# Classificação"
   ]
  },
  {
   "cell_type": "markdown",
   "metadata": {},
   "source": [
    "## Bag of Words"
   ]
  },
  {
   "cell_type": "code",
   "execution_count": 73,
   "metadata": {},
   "outputs": [],
   "source": [
    "data = df.drop(columns='category')"
   ]
  },
  {
   "cell_type": "code",
   "execution_count": 85,
   "metadata": {},
   "outputs": [],
   "source": [
    "train, test = train_test_split(df, \n",
    "                               shuffle = True, \n",
    "                               stratify = df.category, \n",
    "                               train_size = 0.75, \n",
    "                               random_state = 50)"
   ]
  },
  {
   "cell_type": "code",
   "execution_count": 86,
   "metadata": {},
   "outputs": [
    {
     "data": {
      "text/html": [
       "<div>\n",
       "<style scoped>\n",
       "    .dataframe tbody tr th:only-of-type {\n",
       "        vertical-align: middle;\n",
       "    }\n",
       "\n",
       "    .dataframe tbody tr th {\n",
       "        vertical-align: top;\n",
       "    }\n",
       "\n",
       "    .dataframe thead th {\n",
       "        text-align: right;\n",
       "    }\n",
       "</style>\n",
       "<table border=\"1\" class=\"dataframe\">\n",
       "  <thead>\n",
       "    <tr style=\"text-align: right;\">\n",
       "      <th></th>\n",
       "      <th>sentence</th>\n",
       "      <th>category</th>\n",
       "    </tr>\n",
       "  </thead>\n",
       "  <tbody>\n",
       "    <tr>\n",
       "      <th>434</th>\n",
       "      <td>conclusões decisão embargos declaração</td>\n",
       "      <td>4</td>\n",
       "    </tr>\n",
       "    <tr>\n",
       "      <th>263</th>\n",
       "      <td>informativos sonho virou realidade moradores b...</td>\n",
       "      <td>4</td>\n",
       "    </tr>\n",
       "    <tr>\n",
       "      <th>348</th>\n",
       "      <td>dois produtos adicionados sacola</td>\n",
       "      <td>3</td>\n",
       "    </tr>\n",
       "    <tr>\n",
       "      <th>85</th>\n",
       "      <td>história cartórios</td>\n",
       "      <td>4</td>\n",
       "    </tr>\n",
       "    <tr>\n",
       "      <th>36</th>\n",
       "      <td>pague primeira parcela parcelas ar nissan replay</td>\n",
       "      <td>0</td>\n",
       "    </tr>\n",
       "    <tr>\n",
       "      <th>...</th>\n",
       "      <td>...</td>\n",
       "      <td>...</td>\n",
       "    </tr>\n",
       "    <tr>\n",
       "      <th>280</th>\n",
       "      <td>projeto lei</td>\n",
       "      <td>4</td>\n",
       "    </tr>\n",
       "    <tr>\n",
       "      <th>361</th>\n",
       "      <td>conclusões decisão despacho</td>\n",
       "      <td>4</td>\n",
       "    </tr>\n",
       "    <tr>\n",
       "      <th>67</th>\n",
       "      <td>etapa educação infantil</td>\n",
       "      <td>1</td>\n",
       "    </tr>\n",
       "    <tr>\n",
       "      <th>159</th>\n",
       "      <td>início aulas janeiro</td>\n",
       "      <td>1</td>\n",
       "    </tr>\n",
       "    <tr>\n",
       "      <th>415</th>\n",
       "      <td>política descontos cursos área conheça polos i...</td>\n",
       "      <td>1</td>\n",
       "    </tr>\n",
       "  </tbody>\n",
       "</table>\n",
       "<p>390 rows × 2 columns</p>\n",
       "</div>"
      ],
      "text/plain": [
       "                                              sentence  category\n",
       "434             conclusões decisão embargos declaração         4\n",
       "263  informativos sonho virou realidade moradores b...         4\n",
       "348                   dois produtos adicionados sacola         3\n",
       "85                                  história cartórios         4\n",
       "36    pague primeira parcela parcelas ar nissan replay         0\n",
       "..                                                 ...       ...\n",
       "280                                        projeto lei         4\n",
       "361                        conclusões decisão despacho         4\n",
       "67                             etapa educação infantil         1\n",
       "159                               início aulas janeiro         1\n",
       "415  política descontos cursos área conheça polos i...         1\n",
       "\n",
       "[390 rows x 2 columns]"
      ]
     },
     "execution_count": 86,
     "metadata": {},
     "output_type": "execute_result"
    }
   ],
   "source": [
    "train"
   ]
  },
  {
   "cell_type": "code",
   "execution_count": 89,
   "metadata": {},
   "outputs": [],
   "source": [
    "y_train = train.category\n",
    "y_test = test.category"
   ]
  },
  {
   "cell_type": "code",
   "execution_count": 90,
   "metadata": {},
   "outputs": [],
   "source": [
    "bow = CountVectorizer()\n",
    "x_train = bow.fit_transform(train.sentence.values)\n",
    "x_test = bow.transform(test.sentence.values)"
   ]
  },
  {
   "cell_type": "code",
   "execution_count": 91,
   "metadata": {},
   "outputs": [
    {
     "data": {
      "text/plain": [
       "<390x1462 sparse matrix of type '<class 'numpy.int64'>'\n",
       "\twith 2423 stored elements in Compressed Sparse Row format>"
      ]
     },
     "execution_count": 91,
     "metadata": {},
     "output_type": "execute_result"
    }
   ],
   "source": []
  },
  {
   "cell_type": "code",
   "execution_count": 103,
   "metadata": {},
   "outputs": [
    {
     "data": {
      "text/plain": [
       "SVC(probability=True)"
      ]
     },
     "execution_count": 103,
     "metadata": {},
     "output_type": "execute_result"
    }
   ],
   "source": [
    "### SVC classifier\n",
    "SVMC = SVC(probability=True, kernel='rbf')\n",
    "#Fitting the model\n",
    "SVMC.fit(x_train,y_train)"
   ]
  },
  {
   "cell_type": "code",
   "execution_count": 104,
   "metadata": {},
   "outputs": [
    {
     "name": "stdout",
     "output_type": "stream",
     "text": [
      "0.5343511450381679 0.4881807968196353\n"
     ]
    }
   ],
   "source": [
    "pred = SVMC.predict(x_test)\n",
    "pred2 = SVMC.predict_proba(x_test)[:, 1]\n",
    "\n",
    "acc = accuracy_score(y_test,pred)\n",
    "bal_acc = balanced_accuracy_score(y_test, pred)\n",
    "print(acc, bal_acc)"
   ]
  },
  {
   "cell_type": "markdown",
   "metadata": {},
   "source": [
    "## Word2Vec"
   ]
  },
  {
   "cell_type": "markdown",
   "metadata": {},
   "source": [
    "As features obtidas anteriormente utilizando bag of words não foram tão eficazes para alimentar o modelo. Vamos verificar se é possível melhorar o desempenho do classificador por meio de vetores do tipo Word2Vec. Esses vetores carregam informação contextual, e por isso é esperado que essa abordagem leve a melhores resultados. Para que cada \"sentence\" seja representado por um único vetor, vamos calcular o vetor médio de cada frase: tomam-se os vetores de cada palavra em uma frase, tomando o cuidado de verificar se a palavra em questão pertence ao modelo pré-treinado, e calcula-se a média entre eles.\n",
    "\n",
    "Como modelo pré-treinado, é utilizado um Word2Vec treinado com a técnica skip gram em um corpus de língua portuguesa. O arquivo pode ser obtido em http://www.nilc.icmc.usp.br/embeddings (acesso em 29/09/2022)"
   ]
  },
  {
   "cell_type": "code",
   "execution_count": 105,
   "metadata": {},
   "outputs": [],
   "source": [
    "from gensim.models import KeyedVectors\n",
    "model = KeyedVectors.load_word2vec_format(\"/home/joao/Desktop/hand_talk/sent_class/skip_s50.txt\")"
   ]
  },
  {
   "cell_type": "code",
   "execution_count": 120,
   "metadata": {},
   "outputs": [
    {
     "data": {
      "text/plain": [
       "[('cronograma', 0.7738995552062988),\n",
       " ('anteprojeto', 0.7688136696815491),\n",
       " ('programa', 0.7492717504501343),\n",
       " ('plano', 0.749216616153717),\n",
       " ('substitutivo', 0.7378090620040894),\n",
       " ('amrt', 0.7197443842887878),\n",
       " ('organograma', 0.7095134854316711),\n",
       " ('tombamento', 0.7055686712265015),\n",
       " ('escopo', 0.6999985575675964),\n",
       " ('worldforge', 0.6952257752418518)]"
      ]
     },
     "execution_count": 120,
     "metadata": {},
     "output_type": "execute_result"
    }
   ],
   "source": [
    "model.most_similar(\"projeto\")"
   ]
  },
  {
   "cell_type": "code",
   "execution_count": 138,
   "metadata": {},
   "outputs": [],
   "source": [
    "def avg_vector(df):\n",
    "    vectors = []\n",
    "    for sentence in df.sentence.values:\n",
    "        words = sentence.split(' ')\n",
    "        words = [w for w in words if w in model]\n",
    "        mean_vec = np.average(model[words], axis = 0)\n",
    "        vectors.append(mean_vec)\n",
    "    return np.array(vectors)"
   ]
  },
  {
   "cell_type": "code",
   "execution_count": 139,
   "metadata": {},
   "outputs": [],
   "source": [
    "x_train = avg_vector(train)\n",
    "x_test = avg_vector(test)"
   ]
  },
  {
   "cell_type": "code",
   "execution_count": 143,
   "metadata": {},
   "outputs": [
    {
     "data": {
      "text/plain": [
       "(390, 50)"
      ]
     },
     "execution_count": 143,
     "metadata": {},
     "output_type": "execute_result"
    }
   ],
   "source": [
    "x_train.shape"
   ]
  },
  {
   "cell_type": "code",
   "execution_count": 141,
   "metadata": {},
   "outputs": [
    {
     "data": {
      "text/plain": [
       "SVC(probability=True)"
      ]
     },
     "execution_count": 141,
     "metadata": {},
     "output_type": "execute_result"
    }
   ],
   "source": [
    "### SVC classifier\n",
    "SVMC = SVC(probability=True, kernel='rbf')\n",
    "#Fitting the model\n",
    "SVMC.fit(x_train,y_train)"
   ]
  },
  {
   "cell_type": "code",
   "execution_count": 142,
   "metadata": {},
   "outputs": [
    {
     "name": "stdout",
     "output_type": "stream",
     "text": [
      "0.648854961832061 0.6400112349840118\n"
     ]
    }
   ],
   "source": [
    "pred = SVMC.predict(x_test)\n",
    "pred2 = SVMC.predict_proba(x_test)[:, 1]\n",
    "\n",
    "acc = accuracy_score(y_test,pred)\n",
    "bal_acc = balanced_accuracy_score(y_test, pred)\n",
    "print(acc, bal_acc)"
   ]
  },
  {
   "cell_type": "code",
   "execution_count": null,
   "metadata": {},
   "outputs": [],
   "source": []
  }
 ],
 "metadata": {
  "kernelspec": {
   "display_name": "Python 3",
   "language": "python",
   "name": "python3"
  },
  "language_info": {
   "codemirror_mode": {
    "name": "ipython",
    "version": 3
   },
   "file_extension": ".py",
   "mimetype": "text/x-python",
   "name": "python",
   "nbconvert_exporter": "python",
   "pygments_lexer": "ipython3",
   "version": "3.7.6"
  }
 },
 "nbformat": 4,
 "nbformat_minor": 4
}
